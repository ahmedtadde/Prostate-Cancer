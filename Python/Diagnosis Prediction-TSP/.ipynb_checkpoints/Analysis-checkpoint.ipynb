{
 "cells": [
  {
   "cell_type": "code",
   "execution_count": 22,
   "metadata": {
    "collapsed": false
   },
   "outputs": [
    {
     "name": "stdout",
     "output_type": "stream",
     "text": [
      "(47, 4)\n",
      "(47, 1)\n"
     ]
    }
   ],
   "source": [
    "import os\n",
    "import numpy as np\n",
    "import pandas as pd\n",
    "from sklearn import cross_validation\n",
    "from sklearn.cross_validation import StratifiedKFold\n",
    "from sklearn.cross_validation import train_test_split\n",
    "from sklearn.grid_search import GridSearchCV\n",
    "from sklearn.metrics import classification_report\n",
    "from sklearn.metrics import confusion_matrix\n",
    "from sklearn.svm import SVC\n",
    "\n",
    "\n",
    "\n",
    "X = pd.read_csv('X_ea.csv',index_col= 0)\n",
    "y = pd.read_csv('Y_ea.csv',index_col= 0)\n",
    "\n",
    "print X.shape\n",
    "print y.shape\n"
   ]
  },
  {
   "cell_type": "code",
   "execution_count": 23,
   "metadata": {
    "collapsed": false
   },
   "outputs": [
    {
     "name": "stdout",
     "output_type": "stream",
     "text": [
      "Detailed classification report:\n",
      "\n",
      "The scores are computed on the full evaluation set.\n",
      "\n",
      "             precision    recall  f1-score   support\n",
      "\n",
      "     Cancer       1.00      1.00      1.00        10\n",
      "     Normal       1.00      1.00      1.00         5\n",
      "\n",
      "avg / total       1.00      1.00      1.00        15\n",
      "\n",
      "\n",
      "[[10  0]\n",
      " [ 0  5]]\n"
     ]
    }
   ],
   "source": [
    "X_train, X_test, y_train, y_test = train_test_split(X, y, test_size=0.3, random_state=101)\n",
    "y_train = y_train.as_matrix()\n",
    "y_train = y_train.flatten()\n",
    "\n",
    "y_test = y_test.as_matrix()\n",
    "y_test = y_test.flatten()\n",
    "\n",
    "rbf_svm = SVC(kernel='rbf').fit(X_train, y_train)\n",
    "rbf_svm.predict\n",
    "\n",
    "print(\"Detailed classification report:\")\n",
    "print\n",
    "print(\"The scores are computed on the full evaluation set.\")\n",
    "print\n",
    "y_true = y_test\n",
    "y_pred = rbf_svm.predict(X_test)\n",
    "print(classification_report(y_true, y_pred))\n",
    "print \n",
    "print(confusion_matrix(y_test, y_pred))\n",
    "\n"
   ]
  },
  {
   "cell_type": "code",
   "execution_count": 24,
   "metadata": {
    "collapsed": false
   },
   "outputs": [
    {
     "name": "stdout",
     "output_type": "stream",
     "text": [
      "Detailed classification report:\n",
      "\n",
      "The scores are computed on the full evaluation set.\n",
      "\n",
      "             precision    recall  f1-score   support\n",
      "\n",
      "     Cancer       1.00      1.00      1.00        10\n",
      "     Normal       1.00      1.00      1.00         5\n",
      "\n",
      "avg / total       1.00      1.00      1.00        15\n",
      "\n",
      "\n",
      "[[10  0]\n",
      " [ 0  5]]\n"
     ]
    }
   ],
   "source": [
    "from sklearn.neighbors import KNeighborsClassifier\n",
    "X_train, X_test, y_train, y_test = train_test_split(X, y, test_size=0.3, random_state=101)\n",
    "\n",
    "y_train = y_train.as_matrix()\n",
    "y_train = y_train.flatten()\n",
    "y_test = y_test.as_matrix()\n",
    "y_test = y_test.flatten()\n",
    "\n",
    "\n",
    "knn = KNeighborsClassifier(n_neighbors = 3) \n",
    "knn.fit(X_train, y_train)\n",
    "\n",
    "print(\"Detailed classification report:\")\n",
    "print\n",
    "print(\"The scores are computed on the full evaluation set.\")\n",
    "print\n",
    "y_true = y_test\n",
    "y_pred = knn.predict(X_test)\n",
    "print(classification_report(y_true, y_pred))\n",
    "print \n",
    "print(confusion_matrix(y_test, y_pred))"
   ]
  },
  {
   "cell_type": "code",
   "execution_count": 25,
   "metadata": {
    "collapsed": false
   },
   "outputs": [
    {
     "name": "stdout",
     "output_type": "stream",
     "text": [
      "Detailed classification report:\n",
      "\n",
      "             precision    recall  f1-score   support\n",
      "\n",
      "     Cancer       1.00      1.00      1.00        10\n",
      "     Normal       1.00      1.00      1.00         5\n",
      "\n",
      "avg / total       1.00      1.00      1.00        15\n",
      "\n",
      "\n",
      "[[10  0]\n",
      " [ 0  5]]\n"
     ]
    }
   ],
   "source": [
    "# bAYES Model fitting\n",
    "from sklearn.naive_bayes import GaussianNB\n",
    "bayes = GaussianNB()\n",
    "\n",
    "X_train, X_test, y_train, y_test = train_test_split(X, y, test_size=0.3, random_state=101)\n",
    "\n",
    "y_train = y_train.as_matrix()\n",
    "y_train = y_train.flatten()\n",
    "\n",
    "y_test = y_test.as_matrix()\n",
    "y_test = y_test.flatten()\n",
    "\n",
    "bayes.fit(X_train, y_train)\n",
    "\n",
    "print(\"Detailed classification report:\")\n",
    "print \n",
    "y_true = y_test\n",
    "y_pred = bayes.predict(X_test)\n",
    "print(classification_report(y_true, y_pred))\n",
    "print \n",
    "print(confusion_matrix(y_test, y_pred))\n",
    "\n"
   ]
  },
  {
   "cell_type": "code",
   "execution_count": null,
   "metadata": {
    "collapsed": true
   },
   "outputs": [],
   "source": []
  }
 ],
 "metadata": {
  "kernelspec": {
   "display_name": "Python 2",
   "language": "python",
   "name": "python2"
  },
  "language_info": {
   "codemirror_mode": {
    "name": "ipython",
    "version": 2
   },
   "file_extension": ".py",
   "mimetype": "text/x-python",
   "name": "python",
   "nbconvert_exporter": "python",
   "pygments_lexer": "ipython2",
   "version": "2.7.11"
  }
 },
 "nbformat": 4,
 "nbformat_minor": 0
}
