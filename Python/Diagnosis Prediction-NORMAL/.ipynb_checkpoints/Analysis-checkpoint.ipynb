{
 "cells": [
  {
   "cell_type": "code",
   "execution_count": 12,
   "metadata": {
    "collapsed": false
   },
   "outputs": [
    {
     "name": "stdout",
     "output_type": "stream",
     "text": [
      "(47, 22277)\n",
      "(47, 1)\n"
     ]
    }
   ],
   "source": [
    "import os\n",
    "import numpy as np\n",
    "import pandas as pd\n",
    "from sklearn import cross_validation\n",
    "from sklearn.cross_validation import StratifiedKFold\n",
    "from sklearn.cross_validation import train_test_split\n",
    "from sklearn.grid_search import GridSearchCV\n",
    "from sklearn.metrics import classification_report\n",
    "from sklearn.metrics import confusion_matrix\n",
    "from sklearn.svm import SVC\n",
    "\n",
    "\n",
    "\n",
    "X = pd.read_csv('X_ea.csv',index_col= 0)\n",
    "y = pd.read_csv('Y_ea.csv',index_col= 0)\n",
    "\n",
    "print X.shape\n",
    "print y.shape"
   ]
  },
  {
   "cell_type": "code",
   "execution_count": 13,
   "metadata": {
    "collapsed": false
   },
   "outputs": [
    {
     "name": "stdout",
     "output_type": "stream",
     "text": [
      "Detailed classification report:\n",
      "\n",
      "The scores are computed on the full evaluation set.\n",
      "\n",
      "             precision    recall  f1-score   support\n",
      "\n",
      "     Cancer       0.67      1.00      0.80        10\n",
      "     Normal       0.00      0.00      0.00         5\n",
      "\n",
      "avg / total       0.44      0.67      0.53        15\n",
      "\n",
      "\n",
      "[[10  0]\n",
      " [ 5  0]]\n"
     ]
    }
   ],
   "source": [
    "X_train, X_test, y_train, y_test = train_test_split(X, y, test_size=0.3, random_state=101)\n",
    "y_train = y_train.as_matrix()\n",
    "y_train = y_train.flatten()\n",
    "\n",
    "y_test = y_test.as_matrix()\n",
    "y_test = y_test.flatten()\n",
    "\n",
    "rbf_svm = SVC(kernel='rbf').fit(X_train, y_train)\n",
    "rbf_svm.predict\n",
    "\n",
    "print(\"Detailed classification report:\")\n",
    "print\n",
    "print(\"The scores are computed on the full evaluation set.\")\n",
    "print\n",
    "y_true = y_test\n",
    "y_pred = rbf_svm.predict(X_test)\n",
    "print(classification_report(y_true, y_pred))\n",
    "print \n",
    "print(confusion_matrix(y_test, y_pred))\n",
    "\n"
   ]
  },
  {
   "cell_type": "code",
   "execution_count": 14,
   "metadata": {
    "collapsed": false
   },
   "outputs": [
    {
     "name": "stdout",
     "output_type": "stream",
     "text": [
      "Detailed classification report:\n",
      "\n",
      "The scores are computed on the full evaluation set.\n",
      "\n",
      "             precision    recall  f1-score   support\n",
      "\n",
      "     Cancer       0.71      1.00      0.83        10\n",
      "     Normal       1.00      0.20      0.33         5\n",
      "\n",
      "avg / total       0.81      0.73      0.67        15\n",
      "\n",
      "\n",
      "[[10  0]\n",
      " [ 4  1]]\n"
     ]
    }
   ],
   "source": [
    "from sklearn.neighbors import KNeighborsClassifier\n",
    "X_train, X_test, y_train, y_test = train_test_split(X, y, test_size=0.3, random_state=101)\n",
    "\n",
    "y_train = y_train.as_matrix()\n",
    "y_train = y_train.flatten()\n",
    "y_test = y_test.as_matrix()\n",
    "y_test = y_test.flatten()\n",
    "\n",
    "\n",
    "knn = KNeighborsClassifier(n_neighbors = 3) \n",
    "knn.fit(X_train, y_train)\n",
    "\n",
    "print(\"Detailed classification report:\")\n",
    "print\n",
    "print(\"The scores are computed on the full evaluation set.\")\n",
    "print\n",
    "y_true = y_test\n",
    "y_pred = knn.predict(X_test)\n",
    "print(classification_report(y_true, y_pred))\n",
    "print \n",
    "print(confusion_matrix(y_test, y_pred))"
   ]
  },
  {
   "cell_type": "code",
   "execution_count": 15,
   "metadata": {
    "collapsed": false
   },
   "outputs": [
    {
     "name": "stdout",
     "output_type": "stream",
     "text": [
      "Detailed classification report:\n",
      "\n",
      "             precision    recall  f1-score   support\n",
      "\n",
      "     Cancer       0.82      0.90      0.86        10\n",
      "     Normal       0.75      0.60      0.67         5\n",
      "\n",
      "avg / total       0.80      0.80      0.79        15\n",
      "\n",
      "\n",
      "[[9 1]\n",
      " [2 3]]\n"
     ]
    }
   ],
   "source": [
    "# bAYES Model fitting\n",
    "from sklearn.naive_bayes import GaussianNB\n",
    "bayes = GaussianNB()\n",
    "\n",
    "X_train, X_test, y_train, y_test = train_test_split(X, y, test_size=0.3, random_state=101)\n",
    "\n",
    "y_train = y_train.as_matrix()\n",
    "y_train = y_train.flatten()\n",
    "\n",
    "y_test = y_test.as_matrix()\n",
    "y_test = y_test.flatten()\n",
    "\n",
    "bayes.fit(X_train, y_train)\n",
    "\n",
    "print(\"Detailed classification report:\")\n",
    "print \n",
    "y_true = y_test\n",
    "y_pred = bayes.predict(X_test)\n",
    "print(classification_report(y_true, y_pred))\n",
    "print \n",
    "print(confusion_matrix(y_test, y_pred))\n",
    "\n"
   ]
  },
  {
   "cell_type": "code",
   "execution_count": null,
   "metadata": {
    "collapsed": true
   },
   "outputs": [],
   "source": []
  }
 ],
 "metadata": {
  "kernelspec": {
   "display_name": "Python 2",
   "language": "python",
   "name": "python2"
  },
  "language_info": {
   "codemirror_mode": {
    "name": "ipython",
    "version": 2
   },
   "file_extension": ".py",
   "mimetype": "text/x-python",
   "name": "python",
   "nbconvert_exporter": "python",
   "pygments_lexer": "ipython2",
   "version": "2.7.11"
  }
 },
 "nbformat": 4,
 "nbformat_minor": 0
}
